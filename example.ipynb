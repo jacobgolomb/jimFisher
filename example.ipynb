{
 "cells": [
  {
   "cell_type": "code",
   "execution_count": 34,
   "id": "62fb802e-1c4e-43af-b13f-dd8e951a637b",
   "metadata": {
    "tags": []
   },
   "outputs": [
    {
     "name": "stdout",
     "output_type": "stream",
     "text": [
      "The autoreload extension is already loaded. To reload it, use:\n",
      "  %reload_ext autoreload\n"
     ]
    }
   ],
   "source": [
    "%load_ext autoreload \n",
    "%autoreload 2\n",
    "from jimFisher.Fisher import FisherSamples\n",
    "import matplotlib.pyplot as plt\n",
    "import corner\n",
    "import numpy as np\n",
    "from jimFisher.utils import LABELS, convert_to_physical"
   ]
  },
  {
   "cell_type": "code",
   "execution_count": 39,
   "id": "cf45aaf5-982d-4ada-b369-6e2eeb7c1b68",
   "metadata": {},
   "outputs": [],
   "source": [
    "fisher = FisherSamples(name=\"CE\", fmin = 20, fmax = 1024, sensitivity=\"CE\", location=\"H1\", duration=4, \n",
    "                  trigger_time=562678816.12345678,\n",
    "                waveform=\"IMRPhenomD\", f_ref=20.0)"
   ]
  },
  {
   "cell_type": "code",
   "execution_count": 42,
   "id": "5d117a9a-c6db-48ad-a024-035070e52f85",
   "metadata": {},
   "outputs": [],
   "source": [
    "true_params = {\"chirp_mass\": 59, \"mass_ratio\": 0.5, \"s1_z\": 0.1, \"s2_z\":0.1, \n",
    "              \"luminosity_distance\": 2000, \"phase_c\": 0.2, \"cos_iota\": 0.5, \"ra\": 1.1,\n",
    "              \"sin_dec\": np.sin(0.1), 'psi': 0.3, \"t_c\": 0.0, \"s1_x\": 0.0, \"s1_y\":0.0, \"s2_x\": 0.0, \"s2_y\": 0.0}\n"
   ]
  },
  {
   "cell_type": "code",
   "execution_count": 43,
   "id": "cf2157e4-ddec-4887-9c43-cdc96df1d748",
   "metadata": {},
   "outputs": [],
   "source": [
    "fisher.set_at_true(true_params)"
   ]
  },
  {
   "cell_type": "code",
   "execution_count": 44,
   "id": "d65ad2f8-e7b0-4ce8-a846-4a305e7b5c83",
   "metadata": {},
   "outputs": [
    {
     "name": "stderr",
     "output_type": "stream",
     "text": [
      " 51%|█████     | 51/100 [00:23<00:22,  2.21it/s]"
     ]
    },
    {
     "name": "stdout",
     "output_type": "stream",
     "text": [
      "Converged after 51 iterations\n"
     ]
    },
    {
     "name": "stderr",
     "output_type": "stream",
     "text": [
      "\n"
     ]
    }
   ],
   "source": [
    "fisher.set_observed_properties(max_iterations=100)"
   ]
  },
  {
   "cell_type": "code",
   "execution_count": 45,
   "id": "d2455346-961e-48fa-acef-4217cc0ddb84",
   "metadata": {},
   "outputs": [],
   "source": [
    "observed_samples = fisher.draw_physical_samples(10000)\n"
   ]
  },
  {
   "cell_type": "code",
   "execution_count": 48,
   "id": "1a9fe4f8-9c8f-4789-beb8-2141de0c139c",
   "metadata": {},
   "outputs": [
    {
     "ename": "KeyError",
     "evalue": "'mass_1'",
     "output_type": "error",
     "traceback": [
      "\u001b[0;31m---------------------------------------------------------------------------\u001b[0m",
      "\u001b[0;31mKeyError\u001b[0m                                  Traceback (most recent call last)",
      "Cell \u001b[0;32mIn[48], line 10\u001b[0m\n\u001b[1;32m      1\u001b[0m corner_kwargs \u001b[38;5;241m=\u001b[39m \u001b[38;5;28mdict\u001b[39m(\n\u001b[1;32m      2\u001b[0m     bins\u001b[38;5;241m=\u001b[39m\u001b[38;5;241m25\u001b[39m, smooth\u001b[38;5;241m=\u001b[39m\u001b[38;5;241m0.5\u001b[39m,\n\u001b[1;32m      3\u001b[0m     title_kwargs\u001b[38;5;241m=\u001b[39m\u001b[38;5;28mdict\u001b[39m(fontsize\u001b[38;5;241m=\u001b[39m\u001b[38;5;241m16\u001b[39m), \n\u001b[0;32m   (...)\u001b[0m\n\u001b[1;32m      6\u001b[0m     plot_density\u001b[38;5;241m=\u001b[39m\u001b[38;5;28;01mTrue\u001b[39;00m, plot_datapoints\u001b[38;5;241m=\u001b[39m\u001b[38;5;28;01mTrue\u001b[39;00m, fill_contours\u001b[38;5;241m=\u001b[39m\u001b[38;5;28;01mTrue\u001b[39;00m,\n\u001b[1;32m      7\u001b[0m )\n\u001b[1;32m      9\u001b[0m corner\u001b[38;5;241m.\u001b[39mcorner(observed_samples, truths\u001b[38;5;241m=\u001b[39m[convert_to_physical(fisher\u001b[38;5;241m.\u001b[39mtrue_parameters)[key] \u001b[38;5;28;01mfor\u001b[39;00m key \u001b[38;5;129;01min\u001b[39;00m observed_samples],\n\u001b[0;32m---> 10\u001b[0m               labels\u001b[38;5;241m=\u001b[39m\u001b[43m[\u001b[49m\u001b[43mLABELS\u001b[49m\u001b[43m[\u001b[49m\u001b[43mkey\u001b[49m\u001b[43m]\u001b[49m\u001b[43m \u001b[49m\u001b[38;5;28;43;01mfor\u001b[39;49;00m\u001b[43m \u001b[49m\u001b[43mkey\u001b[49m\u001b[43m \u001b[49m\u001b[38;5;129;43;01min\u001b[39;49;00m\u001b[43m \u001b[49m\u001b[43mobserved_samples\u001b[49m\u001b[43m]\u001b[49m, \u001b[38;5;241m*\u001b[39m\u001b[38;5;241m*\u001b[39mcorner_kwargs)\n",
      "Cell \u001b[0;32mIn[48], line 10\u001b[0m, in \u001b[0;36m<listcomp>\u001b[0;34m(.0)\u001b[0m\n\u001b[1;32m      1\u001b[0m corner_kwargs \u001b[38;5;241m=\u001b[39m \u001b[38;5;28mdict\u001b[39m(\n\u001b[1;32m      2\u001b[0m     bins\u001b[38;5;241m=\u001b[39m\u001b[38;5;241m25\u001b[39m, smooth\u001b[38;5;241m=\u001b[39m\u001b[38;5;241m0.5\u001b[39m,\n\u001b[1;32m      3\u001b[0m     title_kwargs\u001b[38;5;241m=\u001b[39m\u001b[38;5;28mdict\u001b[39m(fontsize\u001b[38;5;241m=\u001b[39m\u001b[38;5;241m16\u001b[39m), \n\u001b[0;32m   (...)\u001b[0m\n\u001b[1;32m      6\u001b[0m     plot_density\u001b[38;5;241m=\u001b[39m\u001b[38;5;28;01mTrue\u001b[39;00m, plot_datapoints\u001b[38;5;241m=\u001b[39m\u001b[38;5;28;01mTrue\u001b[39;00m, fill_contours\u001b[38;5;241m=\u001b[39m\u001b[38;5;28;01mTrue\u001b[39;00m,\n\u001b[1;32m      7\u001b[0m )\n\u001b[1;32m      9\u001b[0m corner\u001b[38;5;241m.\u001b[39mcorner(observed_samples, truths\u001b[38;5;241m=\u001b[39m[convert_to_physical(fisher\u001b[38;5;241m.\u001b[39mtrue_parameters)[key] \u001b[38;5;28;01mfor\u001b[39;00m key \u001b[38;5;129;01min\u001b[39;00m observed_samples],\n\u001b[0;32m---> 10\u001b[0m               labels\u001b[38;5;241m=\u001b[39m[\u001b[43mLABELS\u001b[49m\u001b[43m[\u001b[49m\u001b[43mkey\u001b[49m\u001b[43m]\u001b[49m \u001b[38;5;28;01mfor\u001b[39;00m key \u001b[38;5;129;01min\u001b[39;00m observed_samples], \u001b[38;5;241m*\u001b[39m\u001b[38;5;241m*\u001b[39mcorner_kwargs)\n",
      "\u001b[0;31mKeyError\u001b[0m: 'mass_1'"
     ]
    }
   ],
   "source": [
    "corner_kwargs = dict(\n",
    "    bins=25, smooth=0.5,\n",
    "    title_kwargs=dict(fontsize=16), \n",
    "    truth_color='r', quantiles=[0.16, 0.84],\n",
    "    levels=(1 - np.exp(-0.5), 1 - np.exp(-2), 1 - np.exp(-9 / 2.)),\n",
    "    plot_density=True, plot_datapoints=True, fill_contours=True,\n",
    ")\n",
    "\n",
    "corner.corner(observed_samples, truths=[convert_to_physical(fisher.true_parameters)[key] for key in observed_samples],\n",
    "              labels=[LABELS[key] for key in observed_samples], **corner_kwargs)"
   ]
  },
  {
   "cell_type": "code",
   "execution_count": null,
   "id": "0cfb6c07-4d48-4284-bc88-2d8e0f4e7b10",
   "metadata": {},
   "outputs": [],
   "source": []
  }
 ],
 "metadata": {
  "kernelspec": {
   "display_name": "BumpCosmology",
   "language": "python",
   "name": "bumpcosmology"
  },
  "language_info": {
   "codemirror_mode": {
    "name": "ipython",
    "version": 3
   },
   "file_extension": ".py",
   "mimetype": "text/x-python",
   "name": "python",
   "nbconvert_exporter": "python",
   "pygments_lexer": "ipython3",
   "version": "3.11.5"
  }
 },
 "nbformat": 4,
 "nbformat_minor": 5
}
